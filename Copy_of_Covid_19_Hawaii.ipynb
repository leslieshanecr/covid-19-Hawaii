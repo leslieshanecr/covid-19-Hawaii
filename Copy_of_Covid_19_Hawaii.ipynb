{
  "nbformat": 4,
  "nbformat_minor": 0,
  "metadata": {
    "colab": {
      "name": "Copy of Covid-19-Hawaii.ipynb",
      "provenance": [],
      "collapsed_sections": [],
      "include_colab_link": true
    },
    "kernelspec": {
      "name": "python3",
      "display_name": "Python 3"
    }
  },
  "cells": [
    {
      "cell_type": "markdown",
      "metadata": {
        "id": "view-in-github",
        "colab_type": "text"
      },
      "source": [
        "<a href=\"https://colab.research.google.com/github/leslieshanecr/covid-19-Hawaii/blob/myOwn/Copy_of_Covid_19_Hawaii.ipynb\" target=\"_parent\"><img src=\"https://colab.research.google.com/assets/colab-badge.svg\" alt=\"Open In Colab\"/></a>"
      ]
    },
    {
      "cell_type": "markdown",
      "metadata": {
        "id": "7CXyKDfqXNjs",
        "colab_type": "text"
      },
      "source": [
        "[link text](https://)Covid-19 Analysis - April 14, 2020 Class Activity - Leslie Ramos\n",
        "**bold text**\n",
        "\n",
        "Source: The original code for the national data is from Noah Gift's book on Minimal Python. Github Source - https://github.com/debasisb/minimal-python/blob/master/Chapter7_data_science.ipynb\n"
      ]
    },
    {
      "cell_type": "markdown",
      "metadata": {
        "id": "10UY-A6kXDlS",
        "colab_type": "text"
      },
      "source": [
        ""
      ]
    },
    {
      "cell_type": "markdown",
      "metadata": {
        "id": "8TjEPd1-XqRu",
        "colab_type": "text"
      },
      "source": [
        "Import pandas and create a dataframe df for the US Covid-19 data from the NY Times GitHub content"
      ]
    },
    {
      "cell_type": "code",
      "metadata": {
        "id": "I0nWZE0mLDIb",
        "colab_type": "code",
        "outputId": "9da495e1-85b6-4c08-b711-cc806ce2099d",
        "colab": {
          "base_uri": "https://localhost:8080/",
          "height": 204
        }
      },
      "source": [
        "import pandas as pd\n",
        "df = pd.read_csv(\"https://raw.githubusercontent.com/nytimes/covid-19-data/master/us-states.csv\")\n",
        "df.head(10)"
      ],
      "execution_count": 0,
      "outputs": [
        {
          "output_type": "execute_result",
          "data": {
            "text/html": [
              "<div>\n",
              "<style scoped>\n",
              "    .dataframe tbody tr th:only-of-type {\n",
              "        vertical-align: middle;\n",
              "    }\n",
              "\n",
              "    .dataframe tbody tr th {\n",
              "        vertical-align: top;\n",
              "    }\n",
              "\n",
              "    .dataframe thead th {\n",
              "        text-align: right;\n",
              "    }\n",
              "</style>\n",
              "<table border=\"1\" class=\"dataframe\">\n",
              "  <thead>\n",
              "    <tr style=\"text-align: right;\">\n",
              "      <th></th>\n",
              "      <th>date</th>\n",
              "      <th>state</th>\n",
              "      <th>fips</th>\n",
              "      <th>cases</th>\n",
              "      <th>deaths</th>\n",
              "    </tr>\n",
              "  </thead>\n",
              "  <tbody>\n",
              "    <tr>\n",
              "      <th>0</th>\n",
              "      <td>2020-01-21</td>\n",
              "      <td>Washington</td>\n",
              "      <td>53</td>\n",
              "      <td>1</td>\n",
              "      <td>0</td>\n",
              "    </tr>\n",
              "    <tr>\n",
              "      <th>1</th>\n",
              "      <td>2020-01-22</td>\n",
              "      <td>Washington</td>\n",
              "      <td>53</td>\n",
              "      <td>1</td>\n",
              "      <td>0</td>\n",
              "    </tr>\n",
              "    <tr>\n",
              "      <th>2</th>\n",
              "      <td>2020-01-23</td>\n",
              "      <td>Washington</td>\n",
              "      <td>53</td>\n",
              "      <td>1</td>\n",
              "      <td>0</td>\n",
              "    </tr>\n",
              "    <tr>\n",
              "      <th>3</th>\n",
              "      <td>2020-01-24</td>\n",
              "      <td>Illinois</td>\n",
              "      <td>17</td>\n",
              "      <td>1</td>\n",
              "      <td>0</td>\n",
              "    </tr>\n",
              "    <tr>\n",
              "      <th>4</th>\n",
              "      <td>2020-01-24</td>\n",
              "      <td>Washington</td>\n",
              "      <td>53</td>\n",
              "      <td>1</td>\n",
              "      <td>0</td>\n",
              "    </tr>\n",
              "  </tbody>\n",
              "</table>\n",
              "</div>"
            ],
            "text/plain": [
              "         date       state  fips  cases  deaths\n",
              "0  2020-01-21  Washington    53      1       0\n",
              "1  2020-01-22  Washington    53      1       0\n",
              "2  2020-01-23  Washington    53      1       0\n",
              "3  2020-01-24    Illinois    17      1       0\n",
              "4  2020-01-24  Washington    53      1       0"
            ]
          },
          "metadata": {
            "tags": []
          },
          "execution_count": 5
        }
      ]
    },
    {
      "cell_type": "markdown",
      "metadata": {
        "id": "UIdyIaYaX49x",
        "colab_type": "text"
      },
      "source": [
        "Display the columns of the data frame df. Shape is the dimensions of the data frame selected or the # rows and # of columns"
      ]
    },
    {
      "cell_type": "code",
      "metadata": {
        "id": "PU1XbMQNLUCm",
        "colab_type": "code",
        "outputId": "8821d3b8-82af-44ec-8ade-2c3a5667c5fb",
        "colab": {
          "base_uri": "https://localhost:8080/",
          "height": 34
        }
      },
      "source": [
        "df.columns"
      ],
      "execution_count": 0,
      "outputs": [
        {
          "output_type": "execute_result",
          "data": {
            "text/plain": [
              "Index(['date', 'state', 'fips', 'cases', 'deaths'], dtype='object')"
            ]
          },
          "metadata": {
            "tags": []
          },
          "execution_count": 4
        }
      ]
    },
    {
      "cell_type": "code",
      "metadata": {
        "id": "HpwaHJjzx03V",
        "colab_type": "code",
        "outputId": "b1a9cf3f-d3f8-4fc8-ea7c-2f442321a958",
        "colab": {
          "base_uri": "https://localhost:8080/",
          "height": 34
        }
      },
      "source": [
        "df.shape"
      ],
      "execution_count": 0,
      "outputs": [
        {
          "output_type": "execute_result",
          "data": {
            "text/plain": [
              "(2273, 5)"
            ]
          },
          "metadata": {
            "tags": []
          },
          "execution_count": 6
        }
      ]
    },
    {
      "cell_type": "markdown",
      "metadata": {
        "id": "2_skgaNjYJY9",
        "colab_type": "text"
      },
      "source": [
        "The Seaborn visualization package, is a plotting and graphical package that is used to display data on histograms, scatterplot etc."
      ]
    },
    {
      "cell_type": "code",
      "metadata": {
        "id": "0Ya4GMUfLXvW",
        "colab_type": "code",
        "outputId": "3179e744-f55a-4026-9ee9-6438def0cd4c",
        "colab": {
          "base_uri": "https://localhost:8080/",
          "height": 350
        }
      },
      "source": [
        "import seaborn as sns\n",
        "sns.scatterplot (x=\"cases\", y=\"deaths\", \n",
        "                hue=\"deaths\",size=\"deaths\", data=df)"
      ],
      "execution_count": 0,
      "outputs": [
        {
          "output_type": "stream",
          "text": [
            "/usr/local/lib/python3.6/dist-packages/statsmodels/tools/_testing.py:19: FutureWarning: pandas.util.testing is deprecated. Use the functions in the public API at pandas.testing instead.\n",
            "  import pandas.util.testing as tm\n"
          ],
          "name": "stderr"
        },
        {
          "output_type": "execute_result",
          "data": {
            "text/plain": [
              "<matplotlib.axes._subplots.AxesSubplot at 0x7fe8dd1dbda0>"
            ]
          },
          "metadata": {
            "tags": []
          },
          "execution_count": 6
        },
        {
          "output_type": "display_data",
          "data": {
            "image/png": "[encoded data removed]",
            "text/plain": [
              "<Figure size 432x288 with 1 Axes>"
            ]
          },
          "metadata": {
            "tags": [],
            "needs_background": "light"
          }
        }
      ]
    },
    {
      "cell_type": "markdown",
      "metadata": {
        "id": "G8Ylm0vIZAi9",
        "colab_type": "text"
      },
      "source": [
        "Create an index of Dates from the source of the data till latest date"
      ]
    },
    {
      "cell_type": "code",
      "metadata": {
        "id": "nAp3c0o3M2B9",
        "colab_type": "code",
        "outputId": "6f866cff-eba0-47db-963c-ab0e20419a59",
        "colab": {
          "base_uri": "https://localhost:8080/",
          "height": 170
        }
      },
      "source": [
        "df = pd.read_csv(\"https://raw.githubusercontent.com/nytimes/covid-19-data/master/us-states.csv\")\n",
        "df[\"date\"] = pd.to_datetime(df[\"date\"])\n",
        "df = df.set_index(\"date\")\n",
        "print(f\"Columns: {df.columns}\")\n",
        "df.index"
      ],
      "execution_count": 0,
      "outputs": [
        {
          "output_type": "stream",
          "text": [
            "Columns: Index(['state', 'fips', 'cases', 'deaths'], dtype='object')\n"
          ],
          "name": "stdout"
        },
        {
          "output_type": "execute_result",
          "data": {
            "text/plain": [
              "DatetimeIndex(['2020-01-21', '2020-01-22', '2020-01-23', '2020-01-24',\n",
              "               '2020-01-24', '2020-01-25', '2020-01-25', '2020-01-25',\n",
              "               '2020-01-26', '2020-01-26',\n",
              "               ...\n",
              "               '2020-04-13', '2020-04-13', '2020-04-13', '2020-04-13',\n",
              "               '2020-04-13', '2020-04-13', '2020-04-13', '2020-04-13',\n",
              "               '2020-04-13', '2020-04-13'],\n",
              "              dtype='datetime64[ns]', name='date', length=2329, freq=None)"
            ]
          },
          "metadata": {
            "tags": []
          },
          "execution_count": 7
        }
      ]
    },
    {
      "cell_type": "markdown",
      "metadata": {
        "id": "GhnSoCPxZKk2",
        "colab_type": "text"
      },
      "source": [
        "Create the date for today, and the date two days ago (for the latest data for 2 days)"
      ]
    },
    {
      "cell_type": "code",
      "metadata": {
        "id": "1VwX1t6LNBYI",
        "colab_type": "code",
        "outputId": "1ceb5ada-c0c1-4504-a921-5b4264c17f4b",
        "colab": {
          "base_uri": "https://localhost:8080/",
          "height": 51
        }
      },
      "source": [
        "from datetime import date, timedelta\n",
        "today = date.today()\n",
        "daybefore = today - timedelta(days = 2)\n",
        "print(f\"Today {today}\")\n",
        "print(f\"Two days ago {daybefore}\")"
      ],
      "execution_count": 0,
      "outputs": [
        {
          "output_type": "stream",
          "text": [
            "Today 2020-04-15\n",
            "Two days ago 2020-04-13\n"
          ],
          "name": "stdout"
        }
      ]
    },
    {
      "cell_type": "markdown",
      "metadata": {
        "id": "r1KsbzFIZm7b",
        "colab_type": "text"
      },
      "source": [
        "Display the top 10 rows of data or head(10), bottom rows is tail()"
      ]
    },
    {
      "cell_type": "code",
      "metadata": {
        "id": "o7uEH2qKNfYQ",
        "colab_type": "code",
        "outputId": "8507dd1c-da66-4962-e488-61a31f21a049",
        "colab": {
          "base_uri": "https://localhost:8080/",
          "height": 390
        }
      },
      "source": [
        "df.loc[daybefore:today].tail(10)"
      ],
      "execution_count": 0,
      "outputs": [
        {
          "output_type": "execute_result",
          "data": {
            "text/html": [
              "<div>\n",
              "<style scoped>\n",
              "    .dataframe tbody tr th:only-of-type {\n",
              "        vertical-align: middle;\n",
              "    }\n",
              "\n",
              "    .dataframe tbody tr th {\n",
              "        vertical-align: top;\n",
              "    }\n",
              "\n",
              "    .dataframe thead th {\n",
              "        text-align: right;\n",
              "    }\n",
              "</style>\n",
              "<table border=\"1\" class=\"dataframe\">\n",
              "  <thead>\n",
              "    <tr style=\"text-align: right;\">\n",
              "      <th></th>\n",
              "      <th>state</th>\n",
              "      <th>fips</th>\n",
              "      <th>cases</th>\n",
              "      <th>deaths</th>\n",
              "    </tr>\n",
              "    <tr>\n",
              "      <th>date</th>\n",
              "      <th></th>\n",
              "      <th></th>\n",
              "      <th></th>\n",
              "      <th></th>\n",
              "    </tr>\n",
              "  </thead>\n",
              "  <tbody>\n",
              "    <tr>\n",
              "      <th>2020-04-13</th>\n",
              "      <td>Tennessee</td>\n",
              "      <td>47</td>\n",
              "      <td>5483</td>\n",
              "      <td>114</td>\n",
              "    </tr>\n",
              "    <tr>\n",
              "      <th>2020-04-13</th>\n",
              "      <td>Texas</td>\n",
              "      <td>48</td>\n",
              "      <td>14488</td>\n",
              "      <td>320</td>\n",
              "    </tr>\n",
              "    <tr>\n",
              "      <th>2020-04-13</th>\n",
              "      <td>Utah</td>\n",
              "      <td>49</td>\n",
              "      <td>2363</td>\n",
              "      <td>18</td>\n",
              "    </tr>\n",
              "    <tr>\n",
              "      <th>2020-04-13</th>\n",
              "      <td>Vermont</td>\n",
              "      <td>50</td>\n",
              "      <td>748</td>\n",
              "      <td>28</td>\n",
              "    </tr>\n",
              "    <tr>\n",
              "      <th>2020-04-13</th>\n",
              "      <td>Virgin Islands</td>\n",
              "      <td>78</td>\n",
              "      <td>51</td>\n",
              "      <td>1</td>\n",
              "    </tr>\n",
              "    <tr>\n",
              "      <th>2020-04-13</th>\n",
              "      <td>Virginia</td>\n",
              "      <td>51</td>\n",
              "      <td>5747</td>\n",
              "      <td>149</td>\n",
              "    </tr>\n",
              "    <tr>\n",
              "      <th>2020-04-13</th>\n",
              "      <td>Washington</td>\n",
              "      <td>53</td>\n",
              "      <td>10538</td>\n",
              "      <td>525</td>\n",
              "    </tr>\n",
              "    <tr>\n",
              "      <th>2020-04-13</th>\n",
              "      <td>West Virginia</td>\n",
              "      <td>54</td>\n",
              "      <td>638</td>\n",
              "      <td>9</td>\n",
              "    </tr>\n",
              "    <tr>\n",
              "      <th>2020-04-13</th>\n",
              "      <td>Wisconsin</td>\n",
              "      <td>55</td>\n",
              "      <td>3428</td>\n",
              "      <td>155</td>\n",
              "    </tr>\n",
              "    <tr>\n",
              "      <th>2020-04-13</th>\n",
              "      <td>Wyoming</td>\n",
              "      <td>56</td>\n",
              "      <td>275</td>\n",
              "      <td>1</td>\n",
              "    </tr>\n",
              "  </tbody>\n",
              "</table>\n",
              "</div>"
            ],
            "text/plain": [
              "                     state  fips  cases  deaths\n",
              "date                                           \n",
              "2020-04-13       Tennessee    47   5483     114\n",
              "2020-04-13           Texas    48  14488     320\n",
              "2020-04-13            Utah    49   2363      18\n",
              "2020-04-13         Vermont    50    748      28\n",
              "2020-04-13  Virgin Islands    78     51       1\n",
              "2020-04-13        Virginia    51   5747     149\n",
              "2020-04-13      Washington    53  10538     525\n",
              "2020-04-13   West Virginia    54    638       9\n",
              "2020-04-13       Wisconsin    55   3428     155\n",
              "2020-04-13         Wyoming    56    275       1"
            ]
          },
          "metadata": {
            "tags": []
          },
          "execution_count": 10
        }
      ]
    },
    {
      "cell_type": "code",
      "metadata": {
        "id": "dJpmfYbKNj9R",
        "colab_type": "code",
        "outputId": "e17baa76-5f41-4ab4-eaa9-2ae232ee0cf5",
        "colab": {
          "base_uri": "https://localhost:8080/",
          "height": 282
        }
      },
      "source": [
        "sns.kdeplot(df.loc[daybefore:today][\"deaths\"], shade=True)"
      ],
      "execution_count": 0,
      "outputs": [
        {
          "output_type": "execute_result",
          "data": {
            "text/plain": [
              "<matplotlib.axes._subplots.AxesSubplot at 0x7fe8da3d0828>"
            ]
          },
          "metadata": {
            "tags": []
          },
          "execution_count": 11
        },
        {
          "output_type": "display_data",
          "data": {
            "image/png": "[encoded data removed]",
            "text/plain": [
              "<Figure size 432x288 with 1 Axes>"
            ]
          },
          "metadata": {
            "tags": [],
            "needs_background": "light"
          }
        }
      ]
    },
    {
      "cell_type": "code",
      "metadata": {
        "id": "FIUEiH3TZzBB",
        "colab_type": "code",
        "outputId": "c093d7ca-4ec1-4e2e-d7d8-2187e445c367",
        "colab": {
          "base_uri": "https://localhost:8080/",
          "height": 293
        }
      },
      "source": [
        "sns.kdeplot(df.loc[daybefore:today][\"cases\"], shade=True)"
      ],
      "execution_count": 0,
      "outputs": [
        {
          "output_type": "execute_result",
          "data": {
            "text/plain": [
              "<matplotlib.axes._subplots.AxesSubplot at 0x7fe8d9ec3048>"
            ]
          },
          "metadata": {
            "tags": []
          },
          "execution_count": 12
        },
        {
          "output_type": "display_data",
          "data": {
            "image/png": "[encoded data removed]",
            "text/plain": [
              "<Figure size 432x288 with 1 Axes>"
            ]
          },
          "metadata": {
            "tags": [],
            "needs_background": "light"
          }
        }
      ]
    },
    {
      "cell_type": "markdown",
      "metadata": {
        "id": "v5TJB9l5adf7",
        "colab_type": "text"
      },
      "source": [
        "Create a data frame the identifies the top 10 states, sort by deaths and cases"
      ]
    },
    {
      "cell_type": "code",
      "metadata": {
        "id": "UaD93U-mNoea",
        "colab_type": "code",
        "outputId": "7900f9d8-3571-4c1c-efdd-3caef2b7f53f",
        "colab": {
          "base_uri": "https://localhost:8080/",
          "height": 390
        }
      },
      "source": [
        "current_df = df.loc[daybefore:today].sort_values(by=[\"deaths\", \"cases\"], ascending=False)\n",
        "current_df.head(10)"
      ],
      "execution_count": 0,
      "outputs": [
        {
          "output_type": "execute_result",
          "data": {
            "text/html": [
              "<div>\n",
              "<style scoped>\n",
              "    .dataframe tbody tr th:only-of-type {\n",
              "        vertical-align: middle;\n",
              "    }\n",
              "\n",
              "    .dataframe tbody tr th {\n",
              "        vertical-align: top;\n",
              "    }\n",
              "\n",
              "    .dataframe thead th {\n",
              "        text-align: right;\n",
              "    }\n",
              "</style>\n",
              "<table border=\"1\" class=\"dataframe\">\n",
              "  <thead>\n",
              "    <tr style=\"text-align: right;\">\n",
              "      <th></th>\n",
              "      <th>state</th>\n",
              "      <th>fips</th>\n",
              "      <th>cases</th>\n",
              "      <th>deaths</th>\n",
              "    </tr>\n",
              "    <tr>\n",
              "      <th>date</th>\n",
              "      <th></th>\n",
              "      <th></th>\n",
              "      <th></th>\n",
              "      <th></th>\n",
              "    </tr>\n",
              "  </thead>\n",
              "  <tbody>\n",
              "    <tr>\n",
              "      <th>2020-04-13</th>\n",
              "      <td>New York</td>\n",
              "      <td>36</td>\n",
              "      <td>195031</td>\n",
              "      <td>10056</td>\n",
              "    </tr>\n",
              "    <tr>\n",
              "      <th>2020-04-13</th>\n",
              "      <td>New Jersey</td>\n",
              "      <td>34</td>\n",
              "      <td>64584</td>\n",
              "      <td>2443</td>\n",
              "    </tr>\n",
              "    <tr>\n",
              "      <th>2020-04-13</th>\n",
              "      <td>Michigan</td>\n",
              "      <td>26</td>\n",
              "      <td>25487</td>\n",
              "      <td>1601</td>\n",
              "    </tr>\n",
              "    <tr>\n",
              "      <th>2020-04-13</th>\n",
              "      <td>Louisiana</td>\n",
              "      <td>22</td>\n",
              "      <td>21016</td>\n",
              "      <td>884</td>\n",
              "    </tr>\n",
              "    <tr>\n",
              "      <th>2020-04-13</th>\n",
              "      <td>Massachusetts</td>\n",
              "      <td>25</td>\n",
              "      <td>26867</td>\n",
              "      <td>844</td>\n",
              "    </tr>\n",
              "    <tr>\n",
              "      <th>2020-04-13</th>\n",
              "      <td>Illinois</td>\n",
              "      <td>17</td>\n",
              "      <td>22025</td>\n",
              "      <td>800</td>\n",
              "    </tr>\n",
              "    <tr>\n",
              "      <th>2020-04-13</th>\n",
              "      <td>California</td>\n",
              "      <td>6</td>\n",
              "      <td>24334</td>\n",
              "      <td>725</td>\n",
              "    </tr>\n",
              "    <tr>\n",
              "      <th>2020-04-13</th>\n",
              "      <td>Connecticut</td>\n",
              "      <td>9</td>\n",
              "      <td>13381</td>\n",
              "      <td>602</td>\n",
              "    </tr>\n",
              "    <tr>\n",
              "      <th>2020-04-13</th>\n",
              "      <td>Pennsylvania</td>\n",
              "      <td>42</td>\n",
              "      <td>24295</td>\n",
              "      <td>563</td>\n",
              "    </tr>\n",
              "    <tr>\n",
              "      <th>2020-04-13</th>\n",
              "      <td>Washington</td>\n",
              "      <td>53</td>\n",
              "      <td>10538</td>\n",
              "      <td>525</td>\n",
              "    </tr>\n",
              "  </tbody>\n",
              "</table>\n",
              "</div>"
            ],
            "text/plain": [
              "                    state  fips   cases  deaths\n",
              "date                                           \n",
              "2020-04-13       New York    36  195031   10056\n",
              "2020-04-13     New Jersey    34   64584    2443\n",
              "2020-04-13       Michigan    26   25487    1601\n",
              "2020-04-13      Louisiana    22   21016     884\n",
              "2020-04-13  Massachusetts    25   26867     844\n",
              "2020-04-13       Illinois    17   22025     800\n",
              "2020-04-13     California     6   24334     725\n",
              "2020-04-13    Connecticut     9   13381     602\n",
              "2020-04-13   Pennsylvania    42   24295     563\n",
              "2020-04-13     Washington    53   10538     525"
            ]
          },
          "metadata": {
            "tags": []
          },
          "execution_count": 13
        }
      ]
    },
    {
      "cell_type": "code",
      "metadata": {
        "id": "iSgm6078NzVo",
        "colab_type": "code",
        "outputId": "6de7ba4e-2d4e-4c34-8096-3c265d887fbc",
        "colab": {
          "base_uri": "https://localhost:8080/",
          "height": 34
        }
      },
      "source": [
        "current_df.shape"
      ],
      "execution_count": 0,
      "outputs": [
        {
          "output_type": "execute_result",
          "data": {
            "text/plain": [
              "(56, 4)"
            ]
          },
          "metadata": {
            "tags": []
          },
          "execution_count": 14
        }
      ]
    },
    {
      "cell_type": "code",
      "metadata": {
        "id": "tLmWg3qZOuZ2",
        "colab_type": "code",
        "outputId": "81cdc582-ef5e-4cad-9458-e672787375ce",
        "colab": {
          "base_uri": "https://localhost:8080/",
          "height": 187
        }
      },
      "source": [
        "top_ten_states = list(current_df[\"state\"].head(10).values)\n",
        "top_ten_states"
      ],
      "execution_count": 0,
      "outputs": [
        {
          "output_type": "execute_result",
          "data": {
            "text/plain": [
              "['New York',\n",
              " 'New Jersey',\n",
              " 'Michigan',\n",
              " 'Louisiana',\n",
              " 'Massachusetts',\n",
              " 'Illinois',\n",
              " 'California',\n",
              " 'Connecticut',\n",
              " 'Pennsylvania',\n",
              " 'Washington']"
            ]
          },
          "metadata": {
            "tags": []
          },
          "execution_count": 15
        }
      ]
    },
    {
      "cell_type": "code",
      "metadata": {
        "id": "DOFsflOvPD_e",
        "colab_type": "code",
        "colab": {}
      },
      "source": [
        "top_states_df = df[df['state'].isin(top_ten_states)].drop(columns=\"fips\")"
      ],
      "execution_count": 0,
      "outputs": []
    },
    {
      "cell_type": "code",
      "metadata": {
        "id": "4gmoRMAMPNn8",
        "colab_type": "code",
        "outputId": "71e31e09-5db7-4b5c-dddc-923bb428e19c",
        "colab": {
          "base_uri": "https://localhost:8080/",
          "height": 187
        }
      },
      "source": [
        "set(top_states_df.state.values)"
      ],
      "execution_count": 0,
      "outputs": [
        {
          "output_type": "execute_result",
          "data": {
            "text/plain": [
              "{'California',\n",
              " 'Connecticut',\n",
              " 'Illinois',\n",
              " 'Louisiana',\n",
              " 'Massachusetts',\n",
              " 'Michigan',\n",
              " 'New Jersey',\n",
              " 'New York',\n",
              " 'Pennsylvania',\n",
              " 'Washington'}"
            ]
          },
          "metadata": {
            "tags": []
          },
          "execution_count": 17
        }
      ]
    },
    {
      "cell_type": "markdown",
      "metadata": {
        "id": "7AcpBZfRa8Zl",
        "colab_type": "text"
      },
      "source": [
        "Use Seaborn to create a basic line plot for the top 10 states"
      ]
    },
    {
      "cell_type": "code",
      "metadata": {
        "id": "xvAA_Q6lPVr7",
        "colab_type": "code",
        "outputId": "4e36955f-7275-49d3-e578-c4316b22f3a7",
        "colab": {
          "base_uri": "https://localhost:8080/",
          "height": 503
        }
      },
      "source": [
        "import seaborn as sns\n",
        "import matplotlib.pyplot as plt\n",
        "\n",
        "plt.figure(figsize=(15,5))\n",
        "ax = sns.lmplot(x=\"cases\", y=\"deaths\",\n",
        "                    height=3.5,\n",
        "                    col=\"state\",\n",
        "                    col_wrap=5,\n",
        "                    hue=\"state\", \n",
        "                    palette=\"Set2\",\n",
        "                    data=top_states_df)\n",
        "ax.fig.subplots_adjust(wspace=.2)"
      ],
      "execution_count": 0,
      "outputs": [
        {
          "output_type": "display_data",
          "data": {
            "text/plain": [
              "<Figure size 1080x360 with 0 Axes>"
            ]
          },
          "metadata": {
            "tags": []
          }
        },
        {
          "output_type": "display_data",
          "data": {
            "image/png": "[encoded data removed]",
            "text/plain": [
              "<Figure size 1260x504 with 10 Axes>"
            ]
          },
          "metadata": {
            "tags": [],
            "needs_background": "light"
          }
        }
      ]
    },
    {
      "cell_type": "code",
      "metadata": {
        "id": "Lvoh2DDoQTwl",
        "colab_type": "code",
        "outputId": "1aaf3b1e-67fa-4cc0-c2d1-5b56ec30df75",
        "colab": {
          "base_uri": "https://localhost:8080/",
          "height": 390
        }
      },
      "source": [
        "top_states_april_current_df = top_states_df.loc[\"2020-04-12\":today].sort_values(by=[\"deaths\", \"cases\"], ascending=False)\n",
        "top_states_april_current_df.head(10)"
      ],
      "execution_count": 0,
      "outputs": [
        {
          "output_type": "execute_result",
          "data": {
            "text/html": [
              "<div>\n",
              "<style scoped>\n",
              "    .dataframe tbody tr th:only-of-type {\n",
              "        vertical-align: middle;\n",
              "    }\n",
              "\n",
              "    .dataframe tbody tr th {\n",
              "        vertical-align: top;\n",
              "    }\n",
              "\n",
              "    .dataframe thead th {\n",
              "        text-align: right;\n",
              "    }\n",
              "</style>\n",
              "<table border=\"1\" class=\"dataframe\">\n",
              "  <thead>\n",
              "    <tr style=\"text-align: right;\">\n",
              "      <th></th>\n",
              "      <th>state</th>\n",
              "      <th>cases</th>\n",
              "      <th>deaths</th>\n",
              "    </tr>\n",
              "    <tr>\n",
              "      <th>date</th>\n",
              "      <th></th>\n",
              "      <th></th>\n",
              "      <th></th>\n",
              "    </tr>\n",
              "  </thead>\n",
              "  <tbody>\n",
              "    <tr>\n",
              "      <th>2020-04-13</th>\n",
              "      <td>New York</td>\n",
              "      <td>195031</td>\n",
              "      <td>10056</td>\n",
              "    </tr>\n",
              "    <tr>\n",
              "      <th>2020-04-12</th>\n",
              "      <td>New York</td>\n",
              "      <td>188694</td>\n",
              "      <td>9385</td>\n",
              "    </tr>\n",
              "    <tr>\n",
              "      <th>2020-04-13</th>\n",
              "      <td>New Jersey</td>\n",
              "      <td>64584</td>\n",
              "      <td>2443</td>\n",
              "    </tr>\n",
              "    <tr>\n",
              "      <th>2020-04-12</th>\n",
              "      <td>New Jersey</td>\n",
              "      <td>61850</td>\n",
              "      <td>2350</td>\n",
              "    </tr>\n",
              "    <tr>\n",
              "      <th>2020-04-13</th>\n",
              "      <td>Michigan</td>\n",
              "      <td>25487</td>\n",
              "      <td>1601</td>\n",
              "    </tr>\n",
              "    <tr>\n",
              "      <th>2020-04-12</th>\n",
              "      <td>Michigan</td>\n",
              "      <td>24494</td>\n",
              "      <td>1486</td>\n",
              "    </tr>\n",
              "    <tr>\n",
              "      <th>2020-04-13</th>\n",
              "      <td>Louisiana</td>\n",
              "      <td>21016</td>\n",
              "      <td>884</td>\n",
              "    </tr>\n",
              "    <tr>\n",
              "      <th>2020-04-13</th>\n",
              "      <td>Massachusetts</td>\n",
              "      <td>26867</td>\n",
              "      <td>844</td>\n",
              "    </tr>\n",
              "    <tr>\n",
              "      <th>2020-04-12</th>\n",
              "      <td>Louisiana</td>\n",
              "      <td>20595</td>\n",
              "      <td>840</td>\n",
              "    </tr>\n",
              "    <tr>\n",
              "      <th>2020-04-13</th>\n",
              "      <td>Illinois</td>\n",
              "      <td>22025</td>\n",
              "      <td>800</td>\n",
              "    </tr>\n",
              "  </tbody>\n",
              "</table>\n",
              "</div>"
            ],
            "text/plain": [
              "                    state   cases  deaths\n",
              "date                                     \n",
              "2020-04-13       New York  195031   10056\n",
              "2020-04-12       New York  188694    9385\n",
              "2020-04-13     New Jersey   64584    2443\n",
              "2020-04-12     New Jersey   61850    2350\n",
              "2020-04-13       Michigan   25487    1601\n",
              "2020-04-12       Michigan   24494    1486\n",
              "2020-04-13      Louisiana   21016     884\n",
              "2020-04-13  Massachusetts   26867     844\n",
              "2020-04-12      Louisiana   20595     840\n",
              "2020-04-13       Illinois   22025     800"
            ]
          },
          "metadata": {
            "tags": []
          },
          "execution_count": 19
        }
      ]
    },
    {
      "cell_type": "markdown",
      "metadata": {
        "id": "ybJsMeYkbk_s",
        "colab_type": "text"
      },
      "source": [
        "Use another popular graphical tool called Plotly. This shows a scatter plot for the month of April for the top 10 states"
      ]
    },
    {
      "cell_type": "code",
      "metadata": {
        "id": "E7xDXJQbQt19",
        "colab_type": "code",
        "outputId": "232465e0-80d0-449f-ef99-7d448c3a0214",
        "colab": {
          "base_uri": "https://localhost:8080/",
          "height": 542
        }
      },
      "source": [
        "import plotly.io as pio\n",
        "pio.renderers.default = 'colab'\n",
        "import plotly.express as px\n",
        "fig = px.scatter(top_states_april_current_df, x=top_states_april_current_df.index, y=\"cases\", size=\"deaths\", color=\"state\", facet_col=\"state\")\n",
        "fig.show()"
      ],
      "execution_count": 0,
      "outputs": [
        {
          "output_type": "display_data",
          "data": {
            "text/html": [
              "<html>\n",
              "<head><meta charset=\"utf-8\" /></head>\n",
              "<body>\n",
              "    <div>\n",
              "            <script src=\"https://cdnjs.cloudflare.com/ajax/libs/mathjax/2.7.5/MathJax.js?config=TeX-AMS-MML_SVG\"></script><script type=\"text/javascript\">if (window.MathJax) {MathJax.Hub.Config({SVG: {font: \"STIX-Web\"}});}</script>\n",
              "                <script type=\"text/javascript\">window.PlotlyConfig = {MathJaxConfig: 'local'};</script>\n",
              "        <script src=\"https://cdn.plot.ly/plotly-latest.min.js\"></script>    \n",
              "            <div id=\"77347e53-a0a3-4741-a70d-0621e7cf8334\" class=\"plotly-graph-div\" style=\"height:525px; width:100%;\"></div>\n",
              "            <script type=\"text/javascript\">\n",
              "                \n",
              "                    window.PLOTLYENV=window.PLOTLYENV || {};\n",
              "                    \n",
              "                if (document.getElementById(\"77347e53-a0a3-4741-a70d-0621e7cf8334\")) {\n",
              "                    Plotly.newPlot(\n",
              "                        '77347e53-a0a3-4741-a70d-0621e7cf8334',\n",
              "                        [{\"hoverlabel\": {\"namelength\": 0}, \"hovertemplate\": \"state=New York<br>x=%{x}<br>cases=%{y}<br>deaths=%{marker.size}\", \"legendgroup\": \"state=New York\", \"marker\": {\"color\": \"#636efa\", \"size\": [9385], \"sizemode\": \"area\", \"sizeref\": 23.4625, \"symbol\": \"circle\"}, \"mode\": \"markers\", \"name\": \"state=New York\", \"showlegend\": true, \"type\": \"scatter\", \"x\": [\"2020-04-12T00:00:00\"], \"xaxis\": \"x\", \"y\": [188694], \"yaxis\": \"y\"}, {\"hoverlabel\": {\"namelength\": 0}, \"hovertemplate\": \"state=New Jersey<br>x=%{x}<br>cases=%{y}<br>deaths=%{marker.size}\", \"legendgroup\": \"state=New Jersey\", \"marker\": {\"color\": \"#EF553B\", \"size\": [2350], \"sizemode\": \"area\", \"sizeref\": 23.4625, \"symbol\": \"circle\"}, \"mode\": \"markers\", \"name\": \"state=New Jersey\", \"showlegend\": true, \"type\": \"scatter\", \"x\": [\"2020-04-12T00:00:00\"], \"xaxis\": \"x2\", \"y\": [61850], \"yaxis\": \"y2\"}, {\"hoverlabel\": {\"namelength\": 0}, \"hovertemplate\": \"state=Michigan<br>x=%{x}<br>cases=%{y}<br>deaths=%{marker.size}\", \"legendgroup\": \"state=Michigan\", \"marker\": {\"color\": \"#00cc96\", \"size\": [1486], \"sizemode\": \"area\", \"sizeref\": 23.4625, \"symbol\": \"circle\"}, \"mode\": \"markers\", \"name\": \"state=Michigan\", \"showlegend\": true, \"type\": \"scatter\", \"x\": [\"2020-04-12T00:00:00\"], \"xaxis\": \"x3\", \"y\": [24494], \"yaxis\": \"y3\"}, {\"hoverlabel\": {\"namelength\": 0}, \"hovertemplate\": \"state=Louisiana<br>x=%{x}<br>cases=%{y}<br>deaths=%{marker.size}\", \"legendgroup\": \"state=Louisiana\", \"marker\": {\"color\": \"#ab63fa\", \"size\": [840], \"sizemode\": \"area\", \"sizeref\": 23.4625, \"symbol\": \"circle\"}, \"mode\": \"markers\", \"name\": \"state=Louisiana\", \"showlegend\": true, \"type\": \"scatter\", \"x\": [\"2020-04-12T00:00:00\"], \"xaxis\": \"x4\", \"y\": [20595], \"yaxis\": \"y4\"}, {\"hoverlabel\": {\"namelength\": 0}, \"hovertemplate\": \"state=Massachusetts<br>x=%{x}<br>cases=%{y}<br>deaths=%{marker.size}\", \"legendgroup\": \"state=Massachusetts\", \"marker\": {\"color\": \"#FFA15A\", \"size\": [756], \"sizemode\": \"area\", \"sizeref\": 23.4625, \"symbol\": \"circle\"}, \"mode\": \"markers\", \"name\": \"state=Massachusetts\", \"showlegend\": true, \"type\": \"scatter\", \"x\": [\"2020-04-12T00:00:00\"], \"xaxis\": \"x5\", \"y\": [25475], \"yaxis\": \"y5\"}, {\"hoverlabel\": {\"namelength\": 0}, \"hovertemplate\": \"state=Illinois<br>x=%{x}<br>cases=%{y}<br>deaths=%{marker.size}\", \"legendgroup\": \"state=Illinois\", \"marker\": {\"color\": \"#19d3f3\", \"size\": [727], \"sizemode\": \"area\", \"sizeref\": 23.4625, \"symbol\": \"circle\"}, \"mode\": \"markers\", \"name\": \"state=Illinois\", \"showlegend\": true, \"type\": \"scatter\", \"x\": [\"2020-04-12T00:00:00\"], \"xaxis\": \"x6\", \"y\": [20852], \"yaxis\": \"y6\"}, {\"hoverlabel\": {\"namelength\": 0}, \"hovertemplate\": \"state=California<br>x=%{x}<br>cases=%{y}<br>deaths=%{marker.size}\", \"legendgroup\": \"state=California\", \"marker\": {\"color\": \"#FF6692\", \"size\": [676], \"sizemode\": \"area\", \"sizeref\": 23.4625, \"symbol\": \"circle\"}, \"mode\": \"markers\", \"name\": \"state=California\", \"showlegend\": true, \"type\": \"scatter\", \"x\": [\"2020-04-12T00:00:00\"], \"xaxis\": \"x7\", \"y\": [23323], \"yaxis\": \"y7\"}, {\"hoverlabel\": {\"namelength\": 0}, \"hovertemplate\": \"state=Connecticut<br>x=%{x}<br>cases=%{y}<br>deaths=%{marker.size}\", \"legendgroup\": \"state=Connecticut\", \"marker\": {\"color\": \"#B6E880\", \"size\": [554], \"sizemode\": \"area\", \"sizeref\": 23.4625, \"symbol\": \"circle\"}, \"mode\": \"markers\", \"name\": \"state=Connecticut\", \"showlegend\": true, \"type\": \"scatter\", \"x\": [\"2020-04-12T00:00:00\"], \"xaxis\": \"x8\", \"y\": [12035], \"yaxis\": \"y8\"}, {\"hoverlabel\": {\"namelength\": 0}, \"hovertemplate\": \"state=Pennsylvania<br>x=%{x}<br>cases=%{y}<br>deaths=%{marker.size}\", \"legendgroup\": \"state=Pennsylvania\", \"marker\": {\"color\": \"#FF97FF\", \"size\": [525], \"sizemode\": \"area\", \"sizeref\": 23.4625, \"symbol\": \"circle\"}, \"mode\": \"markers\", \"name\": \"state=Pennsylvania\", \"showlegend\": true, \"type\": \"scatter\", \"x\": [\"2020-04-12T00:00:00\"], \"xaxis\": \"x9\", \"y\": [22955], \"yaxis\": \"y9\"}, {\"hoverlabel\": {\"namelength\": 0}, \"hovertemplate\": \"state=Washington<br>x=%{x}<br>cases=%{y}<br>deaths=%{marker.size}\", \"legendgroup\": \"state=Washington\", \"marker\": {\"color\": \"#FECB52\", \"size\": [511], \"sizemode\": \"area\", \"sizeref\": 23.4625, \"symbol\": \"circle\"}, \"mode\": \"markers\", \"name\": \"state=Washington\", \"showlegend\": true, \"type\": \"scatter\", \"x\": [\"2020-04-12T00:00:00\"], \"xaxis\": \"x10\", \"y\": [10411], \"yaxis\": \"y10\"}],\n",
              "                        {\"annotations\": [{\"font\": {}, \"showarrow\": false, \"text\": \"state=New York\", \"x\": 0.04100000000000001, \"xanchor\": \"center\", \"xref\": \"paper\", \"y\": 1.0, \"yanchor\": \"bottom\", \"yref\": \"paper\"}, {\"font\": {}, \"showarrow\": false, \"text\": \"state=New Jersey\", \"x\": 0.14300000000000004, \"xanchor\": \"center\", \"xref\": \"paper\", \"y\": 1.0, \"yanchor\": \"bottom\", \"yref\": \"paper\"}, {\"font\": {}, \"showarrow\": false, \"text\": \"state=Michigan\", \"x\": 0.24500000000000005, \"xanchor\": \"center\", \"xref\": \"paper\", \"y\": 1.0, \"yanchor\": \"bottom\", \"yref\": \"paper\"}, {\"font\": {}, \"showarrow\": false, \"text\": \"state=Louisiana\", \"x\": 0.3470000000000001, \"xanchor\": \"center\", \"xref\": \"paper\", \"y\": 1.0, \"yanchor\": \"bottom\", \"yref\": \"paper\"}, {\"font\": {}, \"showarrow\": false, \"text\": \"state=Massachusetts\", \"x\": 0.44900000000000007, \"xanchor\": \"center\", \"xref\": \"paper\", \"y\": 1.0, \"yanchor\": \"bottom\", \"yref\": \"paper\"}, {\"font\": {}, \"showarrow\": false, \"text\": \"state=Illinois\", \"x\": 0.5510000000000002, \"xanchor\": \"center\", \"xref\": \"paper\", \"y\": 1.0, \"yanchor\": \"bottom\", \"yref\": \"paper\"}, {\"font\": {}, \"showarrow\": false, \"text\": \"state=California\", \"x\": 0.6530000000000001, \"xanchor\": \"center\", \"xref\": \"paper\", \"y\": 1.0, \"yanchor\": \"bottom\", \"yref\": \"paper\"}, {\"font\": {}, \"showarrow\": false, \"text\": \"state=Connecticut\", \"x\": 0.7550000000000001, \"xanchor\": \"center\", \"xref\": \"paper\", \"y\": 1.0, \"yanchor\": \"bottom\", \"yref\": \"paper\"}, {\"font\": {}, \"showarrow\": false, \"text\": \"state=Pennsylvania\", \"x\": 0.8570000000000002, \"xanchor\": \"center\", \"xref\": \"paper\", \"y\": 1.0, \"yanchor\": \"bottom\", \"yref\": \"paper\"}, {\"font\": {}, \"showarrow\": false, \"text\": \"state=Washington\", \"x\": 0.9590000000000002, \"xanchor\": \"center\", \"xref\": \"paper\", \"y\": 1.0, \"yanchor\": \"bottom\", \"yref\": \"paper\"}], \"legend\": {\"itemsizing\": \"constant\", \"tracegroupgap\": 0}, \"margin\": {\"t\": 60}, \"template\": {\"data\": {\"bar\": [{\"error_x\": {\"color\": \"#2a3f5f\"}, \"error_y\": {\"color\": \"#2a3f5f\"}, \"marker\": {\"line\": {\"color\": \"#E5ECF6\", \"width\": 0.5}}, \"type\": \"bar\"}], \"barpolar\": [{\"marker\": {\"line\": {\"color\": \"#E5ECF6\", \"width\": 0.5}}, \"type\": \"barpolar\"}], \"carpet\": [{\"aaxis\": {\"endlinecolor\": \"#2a3f5f\", \"gridcolor\": \"white\", \"linecolor\": \"white\", \"minorgridcolor\": \"white\", \"startlinecolor\": \"#2a3f5f\"}, \"baxis\": {\"endlinecolor\": \"#2a3f5f\", \"gridcolor\": \"white\", \"linecolor\": \"white\", \"minorgridcolor\": \"white\", \"startlinecolor\": \"#2a3f5f\"}, \"type\": \"carpet\"}], \"choropleth\": [{\"colorbar\": {\"outlinewidth\": 0, \"ticks\": \"\"}, \"type\": \"choropleth\"}], \"contour\": [{\"colorbar\": {\"outlinewidth\": 0, \"ticks\": \"\"}, \"colorscale\": [[0.0, \"#0d0887\"], [0.1111111111111111, \"#46039f\"], [0.2222222222222222, \"#7201a8\"], [0.3333333333333333, \"#9c179e\"], [0.4444444444444444, \"#bd3786\"], [0.5555555555555556, \"#d8576b\"], [0.6666666666666666, \"#ed7953\"], [0.7777777777777778, \"#fb9f3a\"], [0.8888888888888888, \"#fdca26\"], [1.0, \"#f0f921\"]], \"type\": \"contour\"}], \"contourcarpet\": [{\"colorbar\": {\"outlinewidth\": 0, \"ticks\": \"\"}, \"type\": \"contourcarpet\"}], \"heatmap\": [{\"colorbar\": {\"outlinewidth\": 0, \"ticks\": \"\"}, \"colorscale\": [[0.0, \"#0d0887\"], [0.1111111111111111, \"#46039f\"], [0.2222222222222222, \"#7201a8\"], [0.3333333333333333, \"#9c179e\"], [0.4444444444444444, \"#bd3786\"], [0.5555555555555556, \"#d8576b\"], [0.6666666666666666, \"#ed7953\"], [0.7777777777777778, \"#fb9f3a\"], [0.8888888888888888, \"#fdca26\"], [1.0, \"#f0f921\"]], \"type\": \"heatmap\"}], \"heatmapgl\": [{\"colorbar\": {\"outlinewidth\": 0, \"ticks\": \"\"}, \"colorscale\": [[0.0, \"#0d0887\"], [0.1111111111111111, \"#46039f\"], [0.2222222222222222, \"#7201a8\"], [0.3333333333333333, \"#9c179e\"], [0.4444444444444444, \"#bd3786\"], [0.5555555555555556, \"#d8576b\"], [0.6666666666666666, \"#ed7953\"], [0.7777777777777778, \"#fb9f3a\"], [0.8888888888888888, \"#fdca26\"], [1.0, \"#f0f921\"]], \"type\": \"heatmapgl\"}], \"histogram\": [{\"marker\": {\"colorbar\": {\"outlinewidth\": 0, \"ticks\": \"\"}}, \"type\": \"histogram\"}], \"histogram2d\": [{\"colorbar\": {\"outlinewidth\": 0, \"ticks\": \"\"}, \"colorscale\": [[0.0, \"#0d0887\"], [0.1111111111111111, \"#46039f\"], [0.2222222222222222, \"#7201a8\"], [0.3333333333333333, \"#9c179e\"], [0.4444444444444444, \"#bd3786\"], [0.5555555555555556, \"#d8576b\"], [0.6666666666666666, \"#ed7953\"], [0.7777777777777778, \"#fb9f3a\"], [0.8888888888888888, \"#fdca26\"], [1.0, \"#f0f921\"]], \"type\": \"histogram2d\"}], \"histogram2dcontour\": [{\"colorbar\": {\"outlinewidth\": 0, \"ticks\": \"\"}, \"colorscale\": [[0.0, \"#0d0887\"], [0.1111111111111111, \"#46039f\"], [0.2222222222222222, \"#7201a8\"], [0.3333333333333333, \"#9c179e\"], [0.4444444444444444, \"#bd3786\"], [0.5555555555555556, \"#d8576b\"], [0.6666666666666666, \"#ed7953\"], [0.7777777777777778, \"#fb9f3a\"], [0.8888888888888888, \"#fdca26\"], [1.0, \"#f0f921\"]], \"type\": \"histogram2dcontour\"}], \"mesh3d\": [{\"colorbar\": {\"outlinewidth\": 0, \"ticks\": \"\"}, \"type\": \"mesh3d\"}], \"parcoords\": [{\"line\": {\"colorbar\": {\"outlinewidth\": 0, \"ticks\": \"\"}}, \"type\": \"parcoords\"}], \"pie\": [{\"automargin\": true, \"type\": \"pie\"}], \"scatter\": [{\"marker\": {\"colorbar\": {\"outlinewidth\": 0, \"ticks\": \"\"}}, \"type\": \"scatter\"}], \"scatter3d\": [{\"line\": {\"colorbar\": {\"outlinewidth\": 0, \"ticks\": \"\"}}, \"marker\": {\"colorbar\": {\"outlinewidth\": 0, \"ticks\": \"\"}}, \"type\": \"scatter3d\"}], \"scattercarpet\": [{\"marker\": {\"colorbar\": {\"outlinewidth\": 0, \"ticks\": \"\"}}, \"type\": \"scattercarpet\"}], \"scattergeo\": [{\"marker\": {\"colorbar\": {\"outlinewidth\": 0, \"ticks\": \"\"}}, \"type\": \"scattergeo\"}], \"scattergl\": [{\"marker\": {\"colorbar\": {\"outlinewidth\": 0, \"ticks\": \"\"}}, \"type\": \"scattergl\"}], \"scattermapbox\": [{\"marker\": {\"colorbar\": {\"outlinewidth\": 0, \"ticks\": \"\"}}, \"type\": \"scattermapbox\"}], \"scatterpolar\": [{\"marker\": {\"colorbar\": {\"outlinewidth\": 0, \"ticks\": \"\"}}, \"type\": \"scatterpolar\"}], \"scatterpolargl\": [{\"marker\": {\"colorbar\": {\"outlinewidth\": 0, \"ticks\": \"\"}}, \"type\": \"scatterpolargl\"}], \"scatterternary\": [{\"marker\": {\"colorbar\": {\"outlinewidth\": 0, \"ticks\": \"\"}}, \"type\": \"scatterternary\"}], \"surface\": [{\"colorbar\": {\"outlinewidth\": 0, \"ticks\": \"\"}, \"colorscale\": [[0.0, \"#0d0887\"], [0.1111111111111111, \"#46039f\"], [0.2222222222222222, \"#7201a8\"], [0.3333333333333333, \"#9c179e\"], [0.4444444444444444, \"#bd3786\"], [0.5555555555555556, \"#d8576b\"], [0.6666666666666666, \"#ed7953\"], [0.7777777777777778, \"#fb9f3a\"], [0.8888888888888888, \"#fdca26\"], [1.0, \"#f0f921\"]], \"type\": \"surface\"}], \"table\": [{\"cells\": {\"fill\": {\"color\": \"#EBF0F8\"}, \"line\": {\"color\": \"white\"}}, \"header\": {\"fill\": {\"color\": \"#C8D4E3\"}, \"line\": {\"color\": \"white\"}}, \"type\": \"table\"}]}, \"layout\": {\"annotationdefaults\": {\"arrowcolor\": \"#2a3f5f\", \"arrowhead\": 0, \"arrowwidth\": 1}, \"coloraxis\": {\"colorbar\": {\"outlinewidth\": 0, \"ticks\": \"\"}}, \"colorscale\": {\"diverging\": [[0, \"#8e0152\"], [0.1, \"#c51b7d\"], [0.2, \"#de77ae\"], [0.3, \"#f1b6da\"], [0.4, \"#fde0ef\"], [0.5, \"#f7f7f7\"], [0.6, \"#e6f5d0\"], [0.7, \"#b8e186\"], [0.8, \"#7fbc41\"], [0.9, \"#4d9221\"], [1, \"#276419\"]], \"sequential\": [[0.0, \"#0d0887\"], [0.1111111111111111, \"#46039f\"], [0.2222222222222222, \"#7201a8\"], [0.3333333333333333, \"#9c179e\"], [0.4444444444444444, \"#bd3786\"], [0.5555555555555556, \"#d8576b\"], [0.6666666666666666, \"#ed7953\"], [0.7777777777777778, \"#fb9f3a\"], [0.8888888888888888, \"#fdca26\"], [1.0, \"#f0f921\"]], \"sequentialminus\": [[0.0, \"#0d0887\"], [0.1111111111111111, \"#46039f\"], [0.2222222222222222, \"#7201a8\"], [0.3333333333333333, \"#9c179e\"], [0.4444444444444444, \"#bd3786\"], [0.5555555555555556, \"#d8576b\"], [0.6666666666666666, \"#ed7953\"], [0.7777777777777778, \"#fb9f3a\"], [0.8888888888888888, \"#fdca26\"], [1.0, \"#f0f921\"]]}, \"colorway\": [\"#636efa\", \"#EF553B\", \"#00cc96\", \"#ab63fa\", \"#FFA15A\", \"#19d3f3\", \"#FF6692\", \"#B6E880\", \"#FF97FF\", \"#FECB52\"], \"font\": {\"color\": \"#2a3f5f\"}, \"geo\": {\"bgcolor\": \"white\", \"lakecolor\": \"white\", \"landcolor\": \"#E5ECF6\", \"showlakes\": true, \"showland\": true, \"subunitcolor\": \"white\"}, \"hoverlabel\": {\"align\": \"left\"}, \"hovermode\": \"closest\", \"mapbox\": {\"style\": \"light\"}, \"paper_bgcolor\": \"white\", \"plot_bgcolor\": \"#E5ECF6\", \"polar\": {\"angularaxis\": {\"gridcolor\": \"white\", \"linecolor\": \"white\", \"ticks\": \"\"}, \"bgcolor\": \"#E5ECF6\", \"radialaxis\": {\"gridcolor\": \"white\", \"linecolor\": \"white\", \"ticks\": \"\"}}, \"scene\": {\"xaxis\": {\"backgroundcolor\": \"#E5ECF6\", \"gridcolor\": \"white\", \"gridwidth\": 2, \"linecolor\": \"white\", \"showbackground\": true, \"ticks\": \"\", \"zerolinecolor\": \"white\"}, \"yaxis\": {\"backgroundcolor\": \"#E5ECF6\", \"gridcolor\": \"white\", \"gridwidth\": 2, \"linecolor\": \"white\", \"showbackground\": true, \"ticks\": \"\", \"zerolinecolor\": \"white\"}, \"zaxis\": {\"backgroundcolor\": \"#E5ECF6\", \"gridcolor\": \"white\", \"gridwidth\": 2, \"linecolor\": \"white\", \"showbackground\": true, \"ticks\": \"\", \"zerolinecolor\": \"white\"}}, \"shapedefaults\": {\"line\": {\"color\": \"#2a3f5f\"}}, \"ternary\": {\"aaxis\": {\"gridcolor\": \"white\", \"linecolor\": \"white\", \"ticks\": \"\"}, \"baxis\": {\"gridcolor\": \"white\", \"linecolor\": \"white\", \"ticks\": \"\"}, \"bgcolor\": \"#E5ECF6\", \"caxis\": {\"gridcolor\": \"white\", \"linecolor\": \"white\", \"ticks\": \"\"}}, \"title\": {\"x\": 0.05}, \"xaxis\": {\"automargin\": true, \"gridcolor\": \"white\", \"linecolor\": \"white\", \"ticks\": \"\", \"title\": {\"standoff\": 15}, \"zerolinecolor\": \"white\", \"zerolinewidth\": 2}, \"yaxis\": {\"automargin\": true, \"gridcolor\": \"white\", \"linecolor\": \"white\", \"ticks\": \"\", \"title\": {\"standoff\": 15}, \"zerolinecolor\": \"white\", \"zerolinewidth\": 2}}}, \"xaxis\": {\"anchor\": \"y\", \"domain\": [0.0, 0.08200000000000002], \"title\": {\"text\": \"x\"}}, \"xaxis10\": {\"anchor\": \"y10\", \"domain\": [0.9180000000000001, 1.0], \"matches\": \"x\", \"title\": {\"text\": \"x\"}}, \"xaxis2\": {\"anchor\": \"y2\", \"domain\": [0.10200000000000002, 0.18400000000000005], \"matches\": \"x\", \"title\": {\"text\": \"x\"}}, \"xaxis3\": {\"anchor\": \"y3\", \"domain\": [0.20400000000000004, 0.28600000000000003], \"matches\": \"x\", \"title\": {\"text\": \"x\"}}, \"xaxis4\": {\"anchor\": \"y4\", \"domain\": [0.30600000000000005, 0.38800000000000007], \"matches\": \"x\", \"title\": {\"text\": \"x\"}}, \"xaxis5\": {\"anchor\": \"y5\", \"domain\": [0.4080000000000001, 0.4900000000000001], \"matches\": \"x\", \"title\": {\"text\": \"x\"}}, \"xaxis6\": {\"anchor\": \"y6\", \"domain\": [0.5100000000000001, 0.5920000000000001], \"matches\": \"x\", \"title\": {\"text\": \"x\"}}, \"xaxis7\": {\"anchor\": \"y7\", \"domain\": [0.6120000000000001, 0.6940000000000002], \"matches\": \"x\", \"title\": {\"text\": \"x\"}}, \"xaxis8\": {\"anchor\": \"y8\", \"domain\": [0.7140000000000001, 0.796], \"matches\": \"x\", \"title\": {\"text\": \"x\"}}, \"xaxis9\": {\"anchor\": \"y9\", \"domain\": [0.8160000000000002, 0.8980000000000001], \"matches\": \"x\", \"title\": {\"text\": \"x\"}}, \"yaxis\": {\"anchor\": \"x\", \"domain\": [0.0, 1.0], \"title\": {\"text\": \"cases\"}}, \"yaxis10\": {\"anchor\": \"x10\", \"domain\": [0.0, 1.0], \"matches\": \"y\", \"showticklabels\": false}, \"yaxis2\": {\"anchor\": \"x2\", \"domain\": [0.0, 1.0], \"matches\": \"y\", \"showticklabels\": false}, \"yaxis3\": {\"anchor\": \"x3\", \"domain\": [0.0, 1.0], \"matches\": \"y\", \"showticklabels\": false}, \"yaxis4\": {\"anchor\": \"x4\", \"domain\": [0.0, 1.0], \"matches\": \"y\", \"showticklabels\": false}, \"yaxis5\": {\"anchor\": \"x5\", \"domain\": [0.0, 1.0], \"matches\": \"y\", \"showticklabels\": false}, \"yaxis6\": {\"anchor\": \"x6\", \"domain\": [0.0, 1.0], \"matches\": \"y\", \"showticklabels\": false}, \"yaxis7\": {\"anchor\": \"x7\", \"domain\": [0.0, 1.0], \"matches\": \"y\", \"showticklabels\": false}, \"yaxis8\": {\"anchor\": \"x8\", \"domain\": [0.0, 1.0], \"matches\": \"y\", \"showticklabels\": false}, \"yaxis9\": {\"anchor\": \"x9\", \"domain\": [0.0, 1.0], \"matches\": \"y\", \"showticklabels\": false}},\n",
              "                        {\"responsive\": true}\n",
              "                    ).then(function(){\n",
              "                            \n",
              "var gd = document.getElementById('77347e53-a0a3-4741-a70d-0621e7cf8334');\n",
              "var x = new MutationObserver(function (mutations, observer) {{\n",
              "        var display = window.getComputedStyle(gd).display;\n",
              "        if (!display || display === 'none') {{\n",
              "            console.log([gd, 'removed!']);\n",
              "            Plotly.purge(gd);\n",
              "            observer.disconnect();\n",
              "        }}\n",
              "}});\n",
              "\n",
              "// Listen for the removal of the full notebook cells\n",
              "var notebookContainer = gd.closest('#notebook-container');\n",
              "if (notebookContainer) {{\n",
              "    x.observe(notebookContainer, {childList: true});\n",
              "}}\n",
              "\n",
              "// Listen for the clearing of the current output cell\n",
              "var outputEl = gd.closest('.output');\n",
              "if (outputEl) {{\n",
              "    x.observe(outputEl, {childList: true});\n",
              "}}\n",
              "\n",
              "                        })\n",
              "                };\n",
              "                \n",
              "            </script>\n",
              "        </div>\n",
              "</body>\n",
              "</html>"
            ]
          },
          "metadata": {
            "tags": []
          }
        }
      ]
    },
    {
      "cell_type": "markdown",
      "metadata": {
        "id": "FsWx0B8DiAEz",
        "colab_type": "text"
      },
      "source": [
        "Original Code for ICS 360 HW - Import State Level Data for Hawaii from national dataset"
      ]
    },
    {
      "cell_type": "code",
      "metadata": {
        "id": "iXcnT6sxerrP",
        "colab_type": "code",
        "outputId": "3beb386d-2209-4da7-f9eb-668736a42db0",
        "colab": {
          "base_uri": "https://localhost:8080/",
          "height": 514
        }
      },
      "source": [
        "import pandas as pd\n",
        "df = pd.read_csv(\"https://raw.githubusercontent.com/nytimes/covid-19-data/master/us-states.csv\")\n",
        "Hawaii_df = df[df[\"state\"] == \"Hawaii\"].drop(columns=\"fips\").drop(columns=\"state\")\n",
        "Hawaii_df.tail(15)"
      ],
      "execution_count": 0,
      "outputs": [
        {
          "output_type": "execute_result",
          "data": {
            "text/html": [
              "<div>\n",
              "<style scoped>\n",
              "    .dataframe tbody tr th:only-of-type {\n",
              "        vertical-align: middle;\n",
              "    }\n",
              "\n",
              "    .dataframe tbody tr th {\n",
              "        vertical-align: top;\n",
              "    }\n",
              "\n",
              "    .dataframe thead th {\n",
              "        text-align: right;\n",
              "    }\n",
              "</style>\n",
              "<table border=\"1\" class=\"dataframe\">\n",
              "  <thead>\n",
              "    <tr style=\"text-align: right;\">\n",
              "      <th></th>\n",
              "      <th>date</th>\n",
              "      <th>cases</th>\n",
              "      <th>deaths</th>\n",
              "    </tr>\n",
              "  </thead>\n",
              "  <tbody>\n",
              "    <tr>\n",
              "      <th>1456</th>\n",
              "      <td>2020-03-29</td>\n",
              "      <td>175</td>\n",
              "      <td>0</td>\n",
              "    </tr>\n",
              "    <tr>\n",
              "      <th>1511</th>\n",
              "      <td>2020-03-30</td>\n",
              "      <td>204</td>\n",
              "      <td>0</td>\n",
              "    </tr>\n",
              "    <tr>\n",
              "      <th>1566</th>\n",
              "      <td>2020-03-31</td>\n",
              "      <td>224</td>\n",
              "      <td>1</td>\n",
              "    </tr>\n",
              "    <tr>\n",
              "      <th>1621</th>\n",
              "      <td>2020-04-01</td>\n",
              "      <td>258</td>\n",
              "      <td>1</td>\n",
              "    </tr>\n",
              "    <tr>\n",
              "      <th>1676</th>\n",
              "      <td>2020-04-02</td>\n",
              "      <td>283</td>\n",
              "      <td>2</td>\n",
              "    </tr>\n",
              "    <tr>\n",
              "      <th>1731</th>\n",
              "      <td>2020-04-03</td>\n",
              "      <td>317</td>\n",
              "      <td>3</td>\n",
              "    </tr>\n",
              "    <tr>\n",
              "      <th>1786</th>\n",
              "      <td>2020-04-04</td>\n",
              "      <td>349</td>\n",
              "      <td>3</td>\n",
              "    </tr>\n",
              "    <tr>\n",
              "      <th>1841</th>\n",
              "      <td>2020-04-05</td>\n",
              "      <td>369</td>\n",
              "      <td>4</td>\n",
              "    </tr>\n",
              "    <tr>\n",
              "      <th>1896</th>\n",
              "      <td>2020-04-06</td>\n",
              "      <td>385</td>\n",
              "      <td>5</td>\n",
              "    </tr>\n",
              "    <tr>\n",
              "      <th>1951</th>\n",
              "      <td>2020-04-07</td>\n",
              "      <td>408</td>\n",
              "      <td>5</td>\n",
              "    </tr>\n",
              "    <tr>\n",
              "      <th>2006</th>\n",
              "      <td>2020-04-08</td>\n",
              "      <td>433</td>\n",
              "      <td>5</td>\n",
              "    </tr>\n",
              "    <tr>\n",
              "      <th>2062</th>\n",
              "      <td>2020-04-09</td>\n",
              "      <td>440</td>\n",
              "      <td>6</td>\n",
              "    </tr>\n",
              "    <tr>\n",
              "      <th>2118</th>\n",
              "      <td>2020-04-10</td>\n",
              "      <td>463</td>\n",
              "      <td>8</td>\n",
              "    </tr>\n",
              "    <tr>\n",
              "      <th>2174</th>\n",
              "      <td>2020-04-11</td>\n",
              "      <td>484</td>\n",
              "      <td>8</td>\n",
              "    </tr>\n",
              "    <tr>\n",
              "      <th>2230</th>\n",
              "      <td>2020-04-12</td>\n",
              "      <td>497</td>\n",
              "      <td>9</td>\n",
              "    </tr>\n",
              "  </tbody>\n",
              "</table>\n",
              "</div>"
            ],
            "text/plain": [
              "            date  cases  deaths\n",
              "1456  2020-03-29    175       0\n",
              "1511  2020-03-30    204       0\n",
              "1566  2020-03-31    224       1\n",
              "1621  2020-04-01    258       1\n",
              "1676  2020-04-02    283       2\n",
              "1731  2020-04-03    317       3\n",
              "1786  2020-04-04    349       3\n",
              "1841  2020-04-05    369       4\n",
              "1896  2020-04-06    385       5\n",
              "1951  2020-04-07    408       5\n",
              "2006  2020-04-08    433       5\n",
              "2062  2020-04-09    440       6\n",
              "2118  2020-04-10    463       8\n",
              "2174  2020-04-11    484       8\n",
              "2230  2020-04-12    497       9"
            ]
          },
          "metadata": {
            "tags": []
          },
          "execution_count": 53
        }
      ]
    },
    {
      "cell_type": "markdown",
      "metadata": {
        "id": "MZvYQpMwfYig",
        "colab_type": "text"
      },
      "source": [
        "Import County Level Data for Hawaii from county dataset"
      ]
    },
    {
      "cell_type": "code",
      "metadata": {
        "id": "WRSNLaNAiJ1i",
        "colab_type": "code",
        "outputId": "520e4cc2-99c2-460a-f44c-e17a45dc0679",
        "colab": {
          "base_uri": "https://localhost:8080/",
          "height": 514
        }
      },
      "source": [
        "import pandas as pd\n",
        "df = pd.read_csv(\"https://raw.githubusercontent.com/nytimes/covid-19-data/master/us-counties.csv\")\n",
        "df = df[df[\"state\"] == \"Hawaii\"].drop(columns=\"fips\").drop(columns=\"state\")\n",
        "df.tail(15)"
      ],
      "execution_count": 0,
      "outputs": [
        {
          "output_type": "execute_result",
          "data": {
            "text/html": [
              "<div>\n",
              "<style scoped>\n",
              "    .dataframe tbody tr th:only-of-type {\n",
              "        vertical-align: middle;\n",
              "    }\n",
              "\n",
              "    .dataframe tbody tr th {\n",
              "        vertical-align: top;\n",
              "    }\n",
              "\n",
              "    .dataframe thead th {\n",
              "        text-align: right;\n",
              "    }\n",
              "</style>\n",
              "<table border=\"1\" class=\"dataframe\">\n",
              "  <thead>\n",
              "    <tr style=\"text-align: right;\">\n",
              "      <th></th>\n",
              "      <th>date</th>\n",
              "      <th>county</th>\n",
              "      <th>cases</th>\n",
              "      <th>deaths</th>\n",
              "    </tr>\n",
              "  </thead>\n",
              "  <tbody>\n",
              "    <tr>\n",
              "      <th>49023</th>\n",
              "      <td>2020-04-11</td>\n",
              "      <td>Hawaii</td>\n",
              "      <td>34</td>\n",
              "      <td>0</td>\n",
              "    </tr>\n",
              "    <tr>\n",
              "      <th>49024</th>\n",
              "      <td>2020-04-11</td>\n",
              "      <td>Honolulu</td>\n",
              "      <td>348</td>\n",
              "      <td>5</td>\n",
              "    </tr>\n",
              "    <tr>\n",
              "      <th>49025</th>\n",
              "      <td>2020-04-11</td>\n",
              "      <td>Kauai</td>\n",
              "      <td>19</td>\n",
              "      <td>0</td>\n",
              "    </tr>\n",
              "    <tr>\n",
              "      <th>49026</th>\n",
              "      <td>2020-04-11</td>\n",
              "      <td>Maui</td>\n",
              "      <td>80</td>\n",
              "      <td>3</td>\n",
              "    </tr>\n",
              "    <tr>\n",
              "      <th>49027</th>\n",
              "      <td>2020-04-11</td>\n",
              "      <td>Unknown</td>\n",
              "      <td>3</td>\n",
              "      <td>0</td>\n",
              "    </tr>\n",
              "    <tr>\n",
              "      <th>51684</th>\n",
              "      <td>2020-04-12</td>\n",
              "      <td>Hawaii</td>\n",
              "      <td>39</td>\n",
              "      <td>0</td>\n",
              "    </tr>\n",
              "    <tr>\n",
              "      <th>51685</th>\n",
              "      <td>2020-04-12</td>\n",
              "      <td>Honolulu</td>\n",
              "      <td>350</td>\n",
              "      <td>6</td>\n",
              "    </tr>\n",
              "    <tr>\n",
              "      <th>51686</th>\n",
              "      <td>2020-04-12</td>\n",
              "      <td>Kauai</td>\n",
              "      <td>21</td>\n",
              "      <td>0</td>\n",
              "    </tr>\n",
              "    <tr>\n",
              "      <th>51687</th>\n",
              "      <td>2020-04-12</td>\n",
              "      <td>Maui</td>\n",
              "      <td>84</td>\n",
              "      <td>3</td>\n",
              "    </tr>\n",
              "    <tr>\n",
              "      <th>51688</th>\n",
              "      <td>2020-04-12</td>\n",
              "      <td>Unknown</td>\n",
              "      <td>3</td>\n",
              "      <td>0</td>\n",
              "    </tr>\n",
              "    <tr>\n",
              "      <th>54365</th>\n",
              "      <td>2020-04-13</td>\n",
              "      <td>Hawaii</td>\n",
              "      <td>40</td>\n",
              "      <td>0</td>\n",
              "    </tr>\n",
              "    <tr>\n",
              "      <th>54366</th>\n",
              "      <td>2020-04-13</td>\n",
              "      <td>Honolulu</td>\n",
              "      <td>352</td>\n",
              "      <td>6</td>\n",
              "    </tr>\n",
              "    <tr>\n",
              "      <th>54367</th>\n",
              "      <td>2020-04-13</td>\n",
              "      <td>Kauai</td>\n",
              "      <td>21</td>\n",
              "      <td>0</td>\n",
              "    </tr>\n",
              "    <tr>\n",
              "      <th>54368</th>\n",
              "      <td>2020-04-13</td>\n",
              "      <td>Maui</td>\n",
              "      <td>86</td>\n",
              "      <td>3</td>\n",
              "    </tr>\n",
              "    <tr>\n",
              "      <th>54369</th>\n",
              "      <td>2020-04-13</td>\n",
              "      <td>Unknown</td>\n",
              "      <td>3</td>\n",
              "      <td>0</td>\n",
              "    </tr>\n",
              "  </tbody>\n",
              "</table>\n",
              "</div>"
            ],
            "text/plain": [
              "             date    county  cases  deaths\n",
              "49023  2020-04-11    Hawaii     34       0\n",
              "49024  2020-04-11  Honolulu    348       5\n",
              "49025  2020-04-11     Kauai     19       0\n",
              "49026  2020-04-11      Maui     80       3\n",
              "49027  2020-04-11   Unknown      3       0\n",
              "51684  2020-04-12    Hawaii     39       0\n",
              "51685  2020-04-12  Honolulu    350       6\n",
              "51686  2020-04-12     Kauai     21       0\n",
              "51687  2020-04-12      Maui     84       3\n",
              "51688  2020-04-12   Unknown      3       0\n",
              "54365  2020-04-13    Hawaii     40       0\n",
              "54366  2020-04-13  Honolulu    352       6\n",
              "54367  2020-04-13     Kauai     21       0\n",
              "54368  2020-04-13      Maui     86       3\n",
              "54369  2020-04-13   Unknown      3       0"
            ]
          },
          "metadata": {
            "tags": []
          },
          "execution_count": 20
        }
      ]
    },
    {
      "cell_type": "code",
      "metadata": {
        "id": "anhVKFKEP9OB",
        "colab_type": "code",
        "outputId": "5b93a404-f4a6-4acb-ccfd-a474aac7a592",
        "colab": {
          "base_uri": "https://localhost:8080/",
          "height": 34
        }
      },
      "source": [
        "df.shape"
      ],
      "execution_count": 0,
      "outputs": [
        {
          "output_type": "execute_result",
          "data": {
            "text/plain": [
              "(150, 4)"
            ]
          },
          "metadata": {
            "tags": []
          },
          "execution_count": 22
        }
      ]
    },
    {
      "cell_type": "markdown",
      "metadata": {
        "id": "94LEKS_scDFA",
        "colab_type": "text"
      },
      "source": [
        "Create a data frame for Maui County and display data for past 15 days"
      ]
    },
    {
      "cell_type": "code",
      "metadata": {
        "id": "nsoHvLXFpqGC",
        "colab_type": "code",
        "outputId": "fb1064c8-cecc-4b67-f37c-b6a429650b93",
        "colab": {
          "base_uri": "https://localhost:8080/",
          "height": 514
        }
      },
      "source": [
        "Maui_County_df = df[df[\"county\"]== \"Maui\"]\n",
        "Maui_County_df.tail(15)"
      ],
      "execution_count": 0,
      "outputs": [
        {
          "output_type": "execute_result",
          "data": {
            "text/html": [
              "<div>\n",
              "<style scoped>\n",
              "    .dataframe tbody tr th:only-of-type {\n",
              "        vertical-align: middle;\n",
              "    }\n",
              "\n",
              "    .dataframe tbody tr th {\n",
              "        vertical-align: top;\n",
              "    }\n",
              "\n",
              "    .dataframe thead th {\n",
              "        text-align: right;\n",
              "    }\n",
              "</style>\n",
              "<table border=\"1\" class=\"dataframe\">\n",
              "  <thead>\n",
              "    <tr style=\"text-align: right;\">\n",
              "      <th></th>\n",
              "      <th>date</th>\n",
              "      <th>county</th>\n",
              "      <th>cases</th>\n",
              "      <th>deaths</th>\n",
              "    </tr>\n",
              "  </thead>\n",
              "  <tbody>\n",
              "    <tr>\n",
              "      <th>20146</th>\n",
              "      <td>2020-03-30</td>\n",
              "      <td>Maui</td>\n",
              "      <td>25</td>\n",
              "      <td>0</td>\n",
              "    </tr>\n",
              "    <tr>\n",
              "      <th>22250</th>\n",
              "      <td>2020-03-31</td>\n",
              "      <td>Maui</td>\n",
              "      <td>25</td>\n",
              "      <td>0</td>\n",
              "    </tr>\n",
              "    <tr>\n",
              "      <th>24429</th>\n",
              "      <td>2020-04-01</td>\n",
              "      <td>Maui</td>\n",
              "      <td>26</td>\n",
              "      <td>0</td>\n",
              "    </tr>\n",
              "    <tr>\n",
              "      <th>26669</th>\n",
              "      <td>2020-04-02</td>\n",
              "      <td>Maui</td>\n",
              "      <td>27</td>\n",
              "      <td>0</td>\n",
              "    </tr>\n",
              "    <tr>\n",
              "      <th>28971</th>\n",
              "      <td>2020-04-03</td>\n",
              "      <td>Maui</td>\n",
              "      <td>36</td>\n",
              "      <td>0</td>\n",
              "    </tr>\n",
              "    <tr>\n",
              "      <th>31334</th>\n",
              "      <td>2020-04-04</td>\n",
              "      <td>Maui</td>\n",
              "      <td>38</td>\n",
              "      <td>0</td>\n",
              "    </tr>\n",
              "    <tr>\n",
              "      <th>33742</th>\n",
              "      <td>2020-04-05</td>\n",
              "      <td>Maui</td>\n",
              "      <td>43</td>\n",
              "      <td>0</td>\n",
              "    </tr>\n",
              "    <tr>\n",
              "      <th>36196</th>\n",
              "      <td>2020-04-06</td>\n",
              "      <td>Maui</td>\n",
              "      <td>44</td>\n",
              "      <td>1</td>\n",
              "    </tr>\n",
              "    <tr>\n",
              "      <th>38688</th>\n",
              "      <td>2020-04-07</td>\n",
              "      <td>Maui</td>\n",
              "      <td>48</td>\n",
              "      <td>1</td>\n",
              "    </tr>\n",
              "    <tr>\n",
              "      <th>41230</th>\n",
              "      <td>2020-04-08</td>\n",
              "      <td>Maui</td>\n",
              "      <td>54</td>\n",
              "      <td>1</td>\n",
              "    </tr>\n",
              "    <tr>\n",
              "      <th>43796</th>\n",
              "      <td>2020-04-09</td>\n",
              "      <td>Maui</td>\n",
              "      <td>57</td>\n",
              "      <td>2</td>\n",
              "    </tr>\n",
              "    <tr>\n",
              "      <th>46395</th>\n",
              "      <td>2020-04-10</td>\n",
              "      <td>Maui</td>\n",
              "      <td>66</td>\n",
              "      <td>3</td>\n",
              "    </tr>\n",
              "    <tr>\n",
              "      <th>49026</th>\n",
              "      <td>2020-04-11</td>\n",
              "      <td>Maui</td>\n",
              "      <td>80</td>\n",
              "      <td>3</td>\n",
              "    </tr>\n",
              "    <tr>\n",
              "      <th>51687</th>\n",
              "      <td>2020-04-12</td>\n",
              "      <td>Maui</td>\n",
              "      <td>84</td>\n",
              "      <td>3</td>\n",
              "    </tr>\n",
              "    <tr>\n",
              "      <th>54368</th>\n",
              "      <td>2020-04-13</td>\n",
              "      <td>Maui</td>\n",
              "      <td>86</td>\n",
              "      <td>3</td>\n",
              "    </tr>\n",
              "  </tbody>\n",
              "</table>\n",
              "</div>"
            ],
            "text/plain": [
              "             date county  cases  deaths\n",
              "20146  2020-03-30   Maui     25       0\n",
              "22250  2020-03-31   Maui     25       0\n",
              "24429  2020-04-01   Maui     26       0\n",
              "26669  2020-04-02   Maui     27       0\n",
              "28971  2020-04-03   Maui     36       0\n",
              "31334  2020-04-04   Maui     38       0\n",
              "33742  2020-04-05   Maui     43       0\n",
              "36196  2020-04-06   Maui     44       1\n",
              "38688  2020-04-07   Maui     48       1\n",
              "41230  2020-04-08   Maui     54       1\n",
              "43796  2020-04-09   Maui     57       2\n",
              "46395  2020-04-10   Maui     66       3\n",
              "49026  2020-04-11   Maui     80       3\n",
              "51687  2020-04-12   Maui     84       3\n",
              "54368  2020-04-13   Maui     86       3"
            ]
          },
          "metadata": {
            "tags": []
          },
          "execution_count": 23
        }
      ]
    },
    {
      "cell_type": "code",
      "metadata": {
        "colab_type": "code",
        "outputId": "ef0d96e6-0187-408c-bd94-c57d920018fb",
        "id": "vyUhRWrns5MM",
        "colab": {
          "base_uri": "https://localhost:8080/",
          "height": 296
        }
      },
      "source": [
        "import seaborn as sns\n",
        "sns.scatterplot(x=\"cases\", y=\"deaths\", \n",
        "                hue=\"deaths\",size=\"deaths\", data=Maui_County_df)"
      ],
      "execution_count": 0,
      "outputs": [
        {
          "output_type": "execute_result",
          "data": {
            "text/plain": [
              "<matplotlib.axes._subplots.AxesSubplot at 0x7fe8d9b2dd68>"
            ]
          },
          "metadata": {
            "tags": []
          },
          "execution_count": 24
        },
        {
          "output_type": "display_data",
          "data": {
            "image/png": "[encoded data removed]",
            "text/plain": [
              "<Figure size 432x288 with 1 Axes>"
            ]
          },
          "metadata": {
            "tags": [],
            "needs_background": "light"
          }
        }
      ]
    },
    {
      "cell_type": "code",
      "metadata": {
        "id": "SqY1GM4FqLsB",
        "colab_type": "code",
        "outputId": "d79ad262-14b2-4c14-fa7c-9fe64b9d5330",
        "colab": {
          "base_uri": "https://localhost:8080/",
          "height": 278
        }
      },
      "source": [
        "import seaborn as sns\n",
        "import matplotlib.pyplot as plt\n",
        "\n",
        "plt.figure(figsize=(15,5))\n",
        "ax = sns.lmplot(x=\"cases\", y=\"deaths\",\n",
        "                    height=3.5,\n",
        "                    col=\"county\",\n",
        "                    col_wrap=5,\n",
        "                    hue=\"county\", \n",
        "                    palette=\"Set2\",\n",
        "                    data=Maui_County_df)\n",
        "ax.fig.subplots_adjust(wspace=.2)"
      ],
      "execution_count": 0,
      "outputs": [
        {
          "output_type": "display_data",
          "data": {
            "text/plain": [
              "<Figure size 1080x360 with 0 Axes>"
            ]
          },
          "metadata": {
            "tags": []
          }
        },
        {
          "output_type": "display_data",
          "data": {
            "image/png": "[encoded data removed]",
            "text/plain": [
              "<Figure size 1260x252 with 1 Axes>"
            ]
          },
          "metadata": {
            "tags": [],
            "needs_background": "light"
          }
        }
      ]
    },
    {
      "cell_type": "markdown",
      "metadata": {
        "id": "R1CVkmZhcZQp",
        "colab_type": "text"
      },
      "source": [
        "Create a data frame for Honolulu County and display data for past 15 days"
      ]
    },
    {
      "cell_type": "code",
      "metadata": {
        "id": "cJgYJPaey3ip",
        "colab_type": "code",
        "outputId": "44f7754a-88a2-4c89-cdf5-14920bf2c4af",
        "colab": {
          "base_uri": "https://localhost:8080/",
          "height": 514
        }
      },
      "source": [
        "Honolulu_County_df = df[df[\"county\"]== \"Honolulu\"]\n",
        "Honolulu_County_df.tail(15)"
      ],
      "execution_count": 0,
      "outputs": [
        {
          "output_type": "execute_result",
          "data": {
            "text/html": [
              "<div>\n",
              "<style scoped>\n",
              "    .dataframe tbody tr th:only-of-type {\n",
              "        vertical-align: middle;\n",
              "    }\n",
              "\n",
              "    .dataframe tbody tr th {\n",
              "        vertical-align: top;\n",
              "    }\n",
              "\n",
              "    .dataframe thead th {\n",
              "        text-align: right;\n",
              "    }\n",
              "</style>\n",
              "<table border=\"1\" class=\"dataframe\">\n",
              "  <thead>\n",
              "    <tr style=\"text-align: right;\">\n",
              "      <th></th>\n",
              "      <th>date</th>\n",
              "      <th>county</th>\n",
              "      <th>cases</th>\n",
              "      <th>deaths</th>\n",
              "    </tr>\n",
              "  </thead>\n",
              "  <tbody>\n",
              "    <tr>\n",
              "      <th>20144</th>\n",
              "      <td>2020-03-30</td>\n",
              "      <td>Honolulu</td>\n",
              "      <td>139</td>\n",
              "      <td>0</td>\n",
              "    </tr>\n",
              "    <tr>\n",
              "      <th>22248</th>\n",
              "      <td>2020-03-31</td>\n",
              "      <td>Honolulu</td>\n",
              "      <td>157</td>\n",
              "      <td>1</td>\n",
              "    </tr>\n",
              "    <tr>\n",
              "      <th>24427</th>\n",
              "      <td>2020-04-01</td>\n",
              "      <td>Honolulu</td>\n",
              "      <td>182</td>\n",
              "      <td>1</td>\n",
              "    </tr>\n",
              "    <tr>\n",
              "      <th>26667</th>\n",
              "      <td>2020-04-02</td>\n",
              "      <td>Honolulu</td>\n",
              "      <td>206</td>\n",
              "      <td>2</td>\n",
              "    </tr>\n",
              "    <tr>\n",
              "      <th>28969</th>\n",
              "      <td>2020-04-03</td>\n",
              "      <td>Honolulu</td>\n",
              "      <td>237</td>\n",
              "      <td>2</td>\n",
              "    </tr>\n",
              "    <tr>\n",
              "      <th>31332</th>\n",
              "      <td>2020-04-04</td>\n",
              "      <td>Honolulu</td>\n",
              "      <td>266</td>\n",
              "      <td>2</td>\n",
              "    </tr>\n",
              "    <tr>\n",
              "      <th>33740</th>\n",
              "      <td>2020-04-05</td>\n",
              "      <td>Honolulu</td>\n",
              "      <td>281</td>\n",
              "      <td>2</td>\n",
              "    </tr>\n",
              "    <tr>\n",
              "      <th>36194</th>\n",
              "      <td>2020-04-06</td>\n",
              "      <td>Honolulu</td>\n",
              "      <td>292</td>\n",
              "      <td>4</td>\n",
              "    </tr>\n",
              "    <tr>\n",
              "      <th>38686</th>\n",
              "      <td>2020-04-07</td>\n",
              "      <td>Honolulu</td>\n",
              "      <td>312</td>\n",
              "      <td>4</td>\n",
              "    </tr>\n",
              "    <tr>\n",
              "      <th>41228</th>\n",
              "      <td>2020-04-08</td>\n",
              "      <td>Honolulu</td>\n",
              "      <td>328</td>\n",
              "      <td>4</td>\n",
              "    </tr>\n",
              "    <tr>\n",
              "      <th>43794</th>\n",
              "      <td>2020-04-09</td>\n",
              "      <td>Honolulu</td>\n",
              "      <td>334</td>\n",
              "      <td>4</td>\n",
              "    </tr>\n",
              "    <tr>\n",
              "      <th>46393</th>\n",
              "      <td>2020-04-10</td>\n",
              "      <td>Honolulu</td>\n",
              "      <td>343</td>\n",
              "      <td>5</td>\n",
              "    </tr>\n",
              "    <tr>\n",
              "      <th>49024</th>\n",
              "      <td>2020-04-11</td>\n",
              "      <td>Honolulu</td>\n",
              "      <td>348</td>\n",
              "      <td>5</td>\n",
              "    </tr>\n",
              "    <tr>\n",
              "      <th>51685</th>\n",
              "      <td>2020-04-12</td>\n",
              "      <td>Honolulu</td>\n",
              "      <td>350</td>\n",
              "      <td>6</td>\n",
              "    </tr>\n",
              "    <tr>\n",
              "      <th>54366</th>\n",
              "      <td>2020-04-13</td>\n",
              "      <td>Honolulu</td>\n",
              "      <td>352</td>\n",
              "      <td>6</td>\n",
              "    </tr>\n",
              "  </tbody>\n",
              "</table>\n",
              "</div>"
            ],
            "text/plain": [
              "             date    county  cases  deaths\n",
              "20144  2020-03-30  Honolulu    139       0\n",
              "22248  2020-03-31  Honolulu    157       1\n",
              "24427  2020-04-01  Honolulu    182       1\n",
              "26667  2020-04-02  Honolulu    206       2\n",
              "28969  2020-04-03  Honolulu    237       2\n",
              "31332  2020-04-04  Honolulu    266       2\n",
              "33740  2020-04-05  Honolulu    281       2\n",
              "36194  2020-04-06  Honolulu    292       4\n",
              "38686  2020-04-07  Honolulu    312       4\n",
              "41228  2020-04-08  Honolulu    328       4\n",
              "43794  2020-04-09  Honolulu    334       4\n",
              "46393  2020-04-10  Honolulu    343       5\n",
              "49024  2020-04-11  Honolulu    348       5\n",
              "51685  2020-04-12  Honolulu    350       6\n",
              "54366  2020-04-13  Honolulu    352       6"
            ]
          },
          "metadata": {
            "tags": []
          },
          "execution_count": 26
        }
      ]
    },
    {
      "cell_type": "code",
      "metadata": {
        "id": "buUfij8LzHBL",
        "colab_type": "code",
        "outputId": "7a64c82c-9428-479d-cb56-9e999772f89e",
        "colab": {
          "base_uri": "https://localhost:8080/",
          "height": 296
        }
      },
      "source": [
        "import seaborn as sns\n",
        "sns.scatterplot(x=\"cases\", y=\"deaths\", \n",
        "                hue=\"deaths\",size=\"deaths\", data=Honolulu_County_df)"
      ],
      "execution_count": 0,
      "outputs": [
        {
          "output_type": "execute_result",
          "data": {
            "text/plain": [
              "<matplotlib.axes._subplots.AxesSubplot at 0x7fe8d99a6f98>"
            ]
          },
          "metadata": {
            "tags": []
          },
          "execution_count": 27
        },
        {
          "output_type": "display_data",
          "data": {
            "image/png": "[encoded data removed]",
            "text/plain": [
              "<Figure size 432x288 with 1 Axes>"
            ]
          },
          "metadata": {
            "tags": [],
            "needs_background": "light"
          }
        }
      ]
    },
    {
      "cell_type": "code",
      "metadata": {
        "id": "kccrXnr9zP1y",
        "colab_type": "code",
        "outputId": "3cabf14c-1a0b-405a-aed7-16eb877bd76d",
        "colab": {
          "base_uri": "https://localhost:8080/",
          "height": 278
        }
      },
      "source": [
        "import seaborn as sns\n",
        "import matplotlib.pyplot as plt\n",
        "\n",
        "plt.figure(figsize=(15,5))\n",
        "ax = sns.lmplot(x=\"cases\", y=\"deaths\",\n",
        "                    height=3.5,\n",
        "                    col=\"county\",\n",
        "                    col_wrap=5,\n",
        "                    hue=\"county\", \n",
        "                    palette=\"Set2\",\n",
        "                    data=Honolulu_County_df)\n",
        "ax.fig.subplots_adjust(wspace=.2)"
      ],
      "execution_count": 0,
      "outputs": [
        {
          "output_type": "display_data",
          "data": {
            "text/plain": [
              "<Figure size 1080x360 with 0 Axes>"
            ]
          },
          "metadata": {
            "tags": []
          }
        },
        {
          "output_type": "display_data",
          "data": {
            "image/png": "[encoded data removed]",
            "text/plain": [
              "<Figure size 1260x252 with 1 Axes>"
            ]
          },
          "metadata": {
            "tags": [],
            "needs_background": "light"
          }
        }
      ]
    },
    {
      "cell_type": "code",
      "metadata": {
        "id": "heByrJ_vXKIs",
        "colab_type": "code",
        "outputId": "a4ed1f5c-218f-4d75-ae46-a28947cf5304",
        "colab": {
          "base_uri": "https://localhost:8080/",
          "height": 514
        }
      },
      "source": [
        "Kauai_County_df = df[df[\"county\"]== \"Kauai\"]\n",
        "Kauai_County_df.tail(15)"
      ],
      "execution_count": 0,
      "outputs": [
        {
          "output_type": "execute_result",
          "data": {
            "text/html": [
              "<div>\n",
              "<style scoped>\n",
              "    .dataframe tbody tr th:only-of-type {\n",
              "        vertical-align: middle;\n",
              "    }\n",
              "\n",
              "    .dataframe tbody tr th {\n",
              "        vertical-align: top;\n",
              "    }\n",
              "\n",
              "    .dataframe thead th {\n",
              "        text-align: right;\n",
              "    }\n",
              "</style>\n",
              "<table border=\"1\" class=\"dataframe\">\n",
              "  <thead>\n",
              "    <tr style=\"text-align: right;\">\n",
              "      <th></th>\n",
              "      <th>date</th>\n",
              "      <th>county</th>\n",
              "      <th>cases</th>\n",
              "      <th>deaths</th>\n",
              "    </tr>\n",
              "  </thead>\n",
              "  <tbody>\n",
              "    <tr>\n",
              "      <th>20145</th>\n",
              "      <td>2020-03-30</td>\n",
              "      <td>Kauai</td>\n",
              "      <td>12</td>\n",
              "      <td>0</td>\n",
              "    </tr>\n",
              "    <tr>\n",
              "      <th>22249</th>\n",
              "      <td>2020-03-31</td>\n",
              "      <td>Kauai</td>\n",
              "      <td>12</td>\n",
              "      <td>0</td>\n",
              "    </tr>\n",
              "    <tr>\n",
              "      <th>24428</th>\n",
              "      <td>2020-04-01</td>\n",
              "      <td>Kauai</td>\n",
              "      <td>12</td>\n",
              "      <td>0</td>\n",
              "    </tr>\n",
              "    <tr>\n",
              "      <th>26668</th>\n",
              "      <td>2020-04-02</td>\n",
              "      <td>Kauai</td>\n",
              "      <td>12</td>\n",
              "      <td>0</td>\n",
              "    </tr>\n",
              "    <tr>\n",
              "      <th>28970</th>\n",
              "      <td>2020-04-03</td>\n",
              "      <td>Kauai</td>\n",
              "      <td>13</td>\n",
              "      <td>0</td>\n",
              "    </tr>\n",
              "    <tr>\n",
              "      <th>31333</th>\n",
              "      <td>2020-04-04</td>\n",
              "      <td>Kauai</td>\n",
              "      <td>15</td>\n",
              "      <td>0</td>\n",
              "    </tr>\n",
              "    <tr>\n",
              "      <th>33741</th>\n",
              "      <td>2020-04-05</td>\n",
              "      <td>Kauai</td>\n",
              "      <td>16</td>\n",
              "      <td>0</td>\n",
              "    </tr>\n",
              "    <tr>\n",
              "      <th>36195</th>\n",
              "      <td>2020-04-06</td>\n",
              "      <td>Kauai</td>\n",
              "      <td>17</td>\n",
              "      <td>0</td>\n",
              "    </tr>\n",
              "    <tr>\n",
              "      <th>38687</th>\n",
              "      <td>2020-04-07</td>\n",
              "      <td>Kauai</td>\n",
              "      <td>18</td>\n",
              "      <td>0</td>\n",
              "    </tr>\n",
              "    <tr>\n",
              "      <th>41229</th>\n",
              "      <td>2020-04-08</td>\n",
              "      <td>Kauai</td>\n",
              "      <td>18</td>\n",
              "      <td>0</td>\n",
              "    </tr>\n",
              "    <tr>\n",
              "      <th>43795</th>\n",
              "      <td>2020-04-09</td>\n",
              "      <td>Kauai</td>\n",
              "      <td>18</td>\n",
              "      <td>0</td>\n",
              "    </tr>\n",
              "    <tr>\n",
              "      <th>46394</th>\n",
              "      <td>2020-04-10</td>\n",
              "      <td>Kauai</td>\n",
              "      <td>19</td>\n",
              "      <td>0</td>\n",
              "    </tr>\n",
              "    <tr>\n",
              "      <th>49025</th>\n",
              "      <td>2020-04-11</td>\n",
              "      <td>Kauai</td>\n",
              "      <td>19</td>\n",
              "      <td>0</td>\n",
              "    </tr>\n",
              "    <tr>\n",
              "      <th>51686</th>\n",
              "      <td>2020-04-12</td>\n",
              "      <td>Kauai</td>\n",
              "      <td>21</td>\n",
              "      <td>0</td>\n",
              "    </tr>\n",
              "    <tr>\n",
              "      <th>54367</th>\n",
              "      <td>2020-04-13</td>\n",
              "      <td>Kauai</td>\n",
              "      <td>21</td>\n",
              "      <td>0</td>\n",
              "    </tr>\n",
              "  </tbody>\n",
              "</table>\n",
              "</div>"
            ],
            "text/plain": [
              "             date county  cases  deaths\n",
              "20145  2020-03-30  Kauai     12       0\n",
              "22249  2020-03-31  Kauai     12       0\n",
              "24428  2020-04-01  Kauai     12       0\n",
              "26668  2020-04-02  Kauai     12       0\n",
              "28970  2020-04-03  Kauai     13       0\n",
              "31333  2020-04-04  Kauai     15       0\n",
              "33741  2020-04-05  Kauai     16       0\n",
              "36195  2020-04-06  Kauai     17       0\n",
              "38687  2020-04-07  Kauai     18       0\n",
              "41229  2020-04-08  Kauai     18       0\n",
              "43795  2020-04-09  Kauai     18       0\n",
              "46394  2020-04-10  Kauai     19       0\n",
              "49025  2020-04-11  Kauai     19       0\n",
              "51686  2020-04-12  Kauai     21       0\n",
              "54367  2020-04-13  Kauai     21       0"
            ]
          },
          "metadata": {
            "tags": []
          },
          "execution_count": 32
        }
      ]
    },
    {
      "cell_type": "code",
      "metadata": {
        "id": "iMn3kenNQvXU",
        "colab_type": "code",
        "outputId": "fe01a9c6-fef6-477b-cba1-d1826b85e007",
        "colab": {
          "base_uri": "https://localhost:8080/",
          "height": 296
        }
      },
      "source": [
        "import seaborn as sns\n",
        "sns.scatterplot(x=\"cases\", y=\"deaths\", \n",
        "                hue=\"deaths\",size=\"deaths\", data=Kauai_County_df)"
      ],
      "execution_count": 0,
      "outputs": [
        {
          "output_type": "execute_result",
          "data": {
            "text/plain": [
              "<matplotlib.axes._subplots.AxesSubplot at 0x7fe8d9afb860>"
            ]
          },
          "metadata": {
            "tags": []
          },
          "execution_count": 33
        },
        {
          "output_type": "display_data",
          "data": {
            "image/png": "[encoded data removed]",
            "text/plain": [
              "<Figure size 432x288 with 1 Axes>"
            ]
          },
          "metadata": {
            "tags": [],
            "needs_background": "light"
          }
        }
      ]
    }
  ]
}